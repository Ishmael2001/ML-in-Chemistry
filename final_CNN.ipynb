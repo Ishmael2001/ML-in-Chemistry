{
 "cells": [
  {
   "cell_type": "code",
   "execution_count": 1,
   "id": "9f72b573",
   "metadata": {},
   "outputs": [],
   "source": [
    "import matplotlib.pyplot as plt\n",
    "import numpy as np\n",
    "import pandas\n",
    "import gc\n",
    "import torch.utils.data as Data\n",
    "import torch\n",
    "import torch.nn as nn\n",
    "import torch.nn.functional as F\n",
    "import matplotlib.pyplot as plt\n",
    "from torch.autograd import Variable\n",
    "from torch.optim import Adam\n",
    "\n",
    "\n",
    "\n",
    "class MLP(nn.Module):   #set model\n",
    "    def __init__(self):\n",
    "        super(MLP, self).__init__()\n",
    "        self.hidden1 = nn.Linear(3,32)\n",
    "        self.hidden2 = nn.Linear(32,32)\n",
    "        self.hidden3 = nn.Linear(32,32)\n",
    "        self.hidden4 = nn.Linear(32,32)\n",
    "        self.hidden5 = nn.Linear(32,32)\n",
    "        self.hidden6 = nn.Linear(32,32)\n",
    "        self.hidden7 = nn.Linear(32,4)\n",
    "    def forward(self,input): \n",
    "        out = self.hidden1(input)\n",
    "        out = F.relu(out)\n",
    "        out = self.hidden2(out)\n",
    "        out = F.relu(out)\n",
    "        out = self.hidden3(out)\n",
    "        out = F.relu(out)\n",
    "        out = self.hidden4(out)\n",
    "        out = F.relu(out)\n",
    "        out = self.hidden5(out)\n",
    "        out = F.relu(out)\n",
    "        out = self.hidden6(out)\n",
    "        out = F.relu(out)\n",
    "        out = self.hidden7(out)\n",
    "        return out\n",
    "\n",
    "net = MLP().double()"
   ]
  },
  {
   "cell_type": "code",
   "execution_count": 2,
   "id": "b5f610fd",
   "metadata": {},
   "outputs": [],
   "source": [
    "def cal_energy(velocity, m=1):  #kinetic energy equation\n",
    "    return 0.5*m*(float(velocity[0]**2)+float(velocity[1]**2))\n",
    "def evaluation(model, batchh, ifpred=True, mass=1): #get pred/true crd&velocity&Ek&t data\n",
    "    crd, vel, energy, t = [], [], [], []\n",
    "    for i in range(9,399): #get the data at t10~t399(total traj starts at t0 and ends at t400)\n",
    "        if ifpred:  #get predicted data\n",
    "            x11, x12, t1 = model(batchh[0][i])[:2], model(batchh[0][i])[2:4], float(batchh[0][i][0]) #ti时刻的坐标\n",
    "            xn1, xn2 = model(batchh[0][i+1])[:2], model(batchh[0][i+1])[2:4]#x(i+1)\n",
    "            x21, x22, t2 = model(batchh[0][i+2])[:2], model(batchh[0][i+2])[2:4], float(batchh[0][i+2][0])\n",
    "            x13 = -x11-x12  #format: 2D tensor\n",
    "            x23 = -x21-x22\n",
    "            crd.append((xn1, xn2, -xn1-xn2)) #get coordinate data\n",
    "            v1, v2, v3 = (x21-x11)/(t2-t1), (x22-x12)/(t2-t1), (x23-x13)/(t2-t1) #format: 2D tensor\n",
    "            vel.append((v1, v2, v3))  #get velocity(v(i+1) is mean velocity during ti~t(i+2))\n",
    "            energy.append((cal_energy(v1),cal_energy(v2),cal_energy(v3))) #get Ek(i+1)\n",
    "        else:  #load the true data from the traj file\n",
    "            t1 = float(batchh[0][i][0])\n",
    "            xn1, xn2 = batchh[1][i+1][:2], batchh[1][i+1][2:4]\n",
    "            v1, v2, v3 = batchh[2][i+1][:2], batchh[2][i+1][2:4], batchh[2][i+1][4:6]\n",
    "            crd.append((xn1, xn2, -xn1-xn2))\n",
    "            vel.append((v1, v2, v3))\n",
    "            energy.append((cal_energy(v1),cal_energy(v2),cal_energy(v3))) \n",
    "        t.append(t1)\n",
    "    return crd, vel, energy, t\n",
    "# a batch is a dataloader, which contains three parts: \n",
    "# batch[0] is the input data, which contains t and x2(initial)\n",
    "# batch[1] is the true data of x1(t), x2(t)\n",
    "# batch[2] is the true data of v1(t), v2(t), v3(t)\n",
    "# you can also see these below"
   ]
  },
  {
   "cell_type": "code",
   "execution_count": 3,
   "id": "439c3a46",
   "metadata": {},
   "outputs": [],
   "source": [
    "def get_dataset(filepath, n_traj):  #transform the traj to Dataset\n",
    "    _f = open(filepath, 'r')\n",
    "    _X = np.zeros((n_traj*401,3)) # the input data, which contains t and x2(initial)\n",
    "    _Y = np.zeros((n_traj*401,4)) # the true data of x1(t), x2(t)\n",
    "    _Z = np.zeros((n_traj*401,6)) # the true data of v1(t), v2(t), v3(t)\n",
    "    _x2_init = np.zeros((2))\n",
    "    for i in range(401*n_traj):\n",
    "        _line1 = [float(i) for i in _f.readline().split()]\n",
    "        _line2 = [float(i) for i in _f.readline().split()]\n",
    "        _line3 = [float(i) for i in _f.readline().split()]\n",
    "        _f.readline()\n",
    "        if (i%401 ==0):\n",
    "            _x2_init = _line2[4:6]\n",
    "        _X[i] = _line1[2:3] + _x2_init\n",
    "        _Y[i] = _line1[4:6] + _line2[4:6]\n",
    "        _Z[i] = _line1[7:9] + _line2[7:9] + _line2[7:9]\n",
    "    return Data.TensorDataset(torch.from_numpy(_X),torch.from_numpy(_Y), torch.from_numpy(_Z))\n",
    "\n",
    "testset = get_dataset(r'D:\\working\\working\\ML\\NVM-master\\traj\\dNB.50.traj', 50) \n",
    "#read 50 trajs of the file\n",
    "testloader = Data.DataLoader(testset, 401, shuffle = False, drop_last = False)  \n",
    "#divide the data into 50 batches(each contains 401 frames)\n",
    "\n",
    "net.load_state_dict(torch.load(\"./checkpoints/model_ann20+.pt\"))\n",
    "crd, vel, energy, t = [],[],[],[] # predicted data\n",
    "crd_true, vel_true, energy_true, t = [],[],[],[] # true data\n",
    "for x,batch in enumerate(testloader):  \n",
    "    crd_x, vel_x, energy_x, t_x = evaluation(net, batch)  # predicted data of each batch\n",
    "    crd_true_x, vel_true_x, energy_true_x, t_x = evaluation(net, batch, False)\n",
    "    crd += crd_x\n",
    "    vel += vel_x\n",
    "    energy += energy_x\n",
    "    t += t_x\n",
    "    crd_true += crd_true_x\n",
    "    vel_true += vel_true_x\n",
    "    energy_true += energy_true_x"
   ]
  },
  {
   "cell_type": "code",
   "execution_count": 4,
   "id": "afd53536",
   "metadata": {},
   "outputs": [],
   "source": [
    "with open(r'D:\\working\\working\\ML\\NVM-master\\crd_pred.txt',mode='w') as f1\\\n",
    ",open(r'D:\\working\\working\\ML\\NVM-master\\vel_pred.txt',mode='w') as f2\\\n",
    ",open(r'D:\\working\\working\\ML\\NVM-master\\energy_pred.txt',mode='w') as f3:\n",
    "    for i in crd:\n",
    "        f1.write(f'{i[0][0]:<12.8f}{i[0][1]:<12.8f}{i[1][0]:<12.8f}{i[1][1]:<12.8f}{i[2][0]:<12.8f}{i[2][1]:<12.8f}\\n')\n",
    "    for i in vel:\n",
    "        f2.write(f'{i[0][0]:<12.8f}{i[0][1]:<12.8f}{i[1][0]:<12.8f}{i[1][1]:<12.8f}{i[2][0]:<12.8f}{i[2][1]:<12.8f}\\n')\n",
    "    for i in energy:\n",
    "        f3.write(f'{i[0]:<12.8f}{i[1]:<12.8f}{i[2]:<12.6f}\\n')\n",
    "with open(r'D:\\working\\working\\ML\\NVM-master\\crd_true.txt',mode='w') as f4\\\n",
    ",open(r'D:\\working\\working\\ML\\NVM-master\\vel_true.txt',mode='w') as f5\\\n",
    ",open(r'D:\\working\\working\\ML\\NVM-master\\energy_true.txt',mode='w') as f6:\n",
    "    for i in crd_true:\n",
    "        f4.write(f'{i[0][0]:<12.8f}{i[0][1]:<12.8f}{i[1][0]:<12.8f}{i[1][1]:<12.8f}{i[2][0]:<12.8f}{i[2][1]:<12.8f}\\n')\n",
    "    for i in vel_true:\n",
    "        f5.write(f'{i[0][0]:<12.8f}{i[0][1]:<12.8f}{i[1][0]:<12.8f}{i[1][1]:<12.8f}{i[2][0]:<12.8f}{i[2][1]:<12.8f}\\n')\n",
    "    for i in energy_true:\n",
    "        f6.write(f'{i[0]:<12.8f}{i[1]:<12.8f}{i[2]:<12.6f}\\n')"
   ]
  },
  {
   "cell_type": "code",
   "execution_count": 5,
   "id": "ab891fce",
   "metadata": {
    "scrolled": false
   },
   "outputs": [
    {
     "name": "stdout",
     "output_type": "stream",
     "text": [
      "MAE is 0.05852424899845553\n",
      "REE is 0.5567749294872907\n"
     ]
    }
   ],
   "source": [
    "def cal_MAE(crd_of_pred, crd_of_true): # calculate MAE(Mean absolute error of coordinate)\n",
    "    _MAE = 0\n",
    "    _length = len(crd_of_pred)\n",
    "    for i in range(_length):\n",
    "        for j in range(3):\n",
    "            _MAE += torch.pairwise_distance(crd_of_pred[i][j], crd_of_true[i][j])\n",
    "    return _MAE/(3*_length)\n",
    "def cal_REE(energy_of_pred, energy_of_true): # calculate REE(relative energy error)\n",
    "    _REE = 0\n",
    "    _length = len(energy_of_pred)\n",
    "    for i in range(_length):\n",
    "        _REE += abs(sum(energy_of_pred[i])-sum(energy_of_true[i]))/sum(energy_of_true[i])\n",
    "    return _REE/(_length)\n",
    "mae = cal_MAE(crd, crd_true)\n",
    "ree = cal_REE(energy, energy_true)\n",
    "print(f'MAE is {mae}')\n",
    "print(f'REE is {ree}')\n"
   ]
  },
  {
   "cell_type": "code",
   "execution_count": 21,
   "id": "b8433f26",
   "metadata": {},
   "outputs": [
    {
     "name": "stdout",
     "output_type": "stream",
     "text": [
      "390\n"
     ]
    },
    {
     "data": {
      "image/png": "[encoded data removed]",
      "text/plain": [
       "<Figure size 432x288 with 1 Axes>"
      ]
     },
     "metadata": {
      "needs_background": "light"
     },
     "output_type": "display_data"
    }
   ],
   "source": [
    "import os\n",
    "import matplotlib.pyplot as plt\n",
    "os.environ[\"KMP_DUPLICATE_LIB_OK\"]=\"TRUE\"\n",
    "def cal_REE_2(energy_of_pred, energy_of_true): # calculate REE(relative energy error) at each time\n",
    "    _REE = []\n",
    "    _length = len(energy_of_pred)\n",
    "    for i in range(_length):\n",
    "        _REE.append(abs(sum(energy_of_pred[i])-sum(energy_of_true[i]))/sum(energy_of_true[i]))\n",
    "    return _REE\n",
    "print(len(t))\n",
    "REE = cal_REE_2(energy[:390], energy_true[:390])\n",
    "plt.plot(t, REE, linewidth=1.0)\n",
    "plt.xlabel(\"t\",fontsize=13)\n",
    "plt.ylabel(\"REE\",fontsize=13)\n",
    "plt.savefig('REE-t.png')"
   ]
  },
  {
   "cell_type": "code",
   "execution_count": null,
   "id": "cbfc376a",
   "metadata": {},
   "outputs": [],
   "source": []
  }
 ],
 "metadata": {
  "kernelspec": {
   "display_name": "Python 3 (ipykernel)",
   "language": "python",
   "name": "python3"
  },
  "language_info": {
   "codemirror_mode": {
    "name": "ipython",
    "version": 3
   },
   "file_extension": ".py",
   "mimetype": "text/x-python",
   "name": "python",
   "nbconvert_exporter": "python",
   "pygments_lexer": "ipython3",
   "version": "3.7.11"
  }
 },
 "nbformat": 4,
 "nbformat_minor": 5
}
